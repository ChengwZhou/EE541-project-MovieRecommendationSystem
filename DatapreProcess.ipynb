{
 "cells": [
  {
   "cell_type": "markdown",
   "id": "4eb527d4",
   "metadata": {},
   "source": [
    "### Data Preprocessing"
   ]
  },
  {
   "cell_type": "code",
   "execution_count": 1,
   "id": "5bf1837b",
   "metadata": {},
   "outputs": [],
   "source": [
    "import pandas as pd\n",
    "import numpy as np\n",
    "import gensim\n",
    "from gensim.models import Word2Vec\n",
    "import itertools\n",
    "from collections import Counter\n",
    "\n",
    "from MovieClass import MovieClass, MultiMovieClass\n",
    "from sklearn.model_selection import train_test_split\n",
    "from sklearn.metrics.pairwise import cosine_similarity"
   ]
  },
  {
   "cell_type": "code",
   "execution_count": 87,
   "id": "77ecfcc0",
   "metadata": {},
   "outputs": [
    {
     "data": {
      "text/html": [
       "<div>\n",
       "<style scoped>\n",
       "    .dataframe tbody tr th:only-of-type {\n",
       "        vertical-align: middle;\n",
       "    }\n",
       "\n",
       "    .dataframe tbody tr th {\n",
       "        vertical-align: top;\n",
       "    }\n",
       "\n",
       "    .dataframe thead th {\n",
       "        text-align: right;\n",
       "    }\n",
       "</style>\n",
       "<table border=\"1\" class=\"dataframe\">\n",
       "  <thead>\n",
       "    <tr style=\"text-align: right;\">\n",
       "      <th></th>\n",
       "      <th>userId</th>\n",
       "      <th>movieId</th>\n",
       "      <th>count</th>\n",
       "    </tr>\n",
       "  </thead>\n",
       "  <tbody>\n",
       "    <tr>\n",
       "      <th>9</th>\n",
       "      <td>2</td>\n",
       "      <td>150</td>\n",
       "      <td>0</td>\n",
       "    </tr>\n",
       "    <tr>\n",
       "      <th>33</th>\n",
       "      <td>2</td>\n",
       "      <td>590</td>\n",
       "      <td>1</td>\n",
       "    </tr>\n",
       "    <tr>\n",
       "      <th>34</th>\n",
       "      <td>2</td>\n",
       "      <td>592</td>\n",
       "      <td>2</td>\n",
       "    </tr>\n",
       "    <tr>\n",
       "      <th>17</th>\n",
       "      <td>2</td>\n",
       "      <td>296</td>\n",
       "      <td>3</td>\n",
       "    </tr>\n",
       "    <tr>\n",
       "      <th>10</th>\n",
       "      <td>2</td>\n",
       "      <td>153</td>\n",
       "      <td>4</td>\n",
       "    </tr>\n",
       "    <tr>\n",
       "      <th>...</th>\n",
       "      <td>...</td>\n",
       "      <td>...</td>\n",
       "      <td>...</td>\n",
       "    </tr>\n",
       "    <tr>\n",
       "      <th>51501</th>\n",
       "      <td>671</td>\n",
       "      <td>1035</td>\n",
       "      <td>79</td>\n",
       "    </tr>\n",
       "    <tr>\n",
       "      <th>51565</th>\n",
       "      <td>671</td>\n",
       "      <td>5995</td>\n",
       "      <td>80</td>\n",
       "    </tr>\n",
       "    <tr>\n",
       "      <th>51541</th>\n",
       "      <td>671</td>\n",
       "      <td>3271</td>\n",
       "      <td>81</td>\n",
       "    </tr>\n",
       "    <tr>\n",
       "      <th>51567</th>\n",
       "      <td>671</td>\n",
       "      <td>6365</td>\n",
       "      <td>82</td>\n",
       "    </tr>\n",
       "    <tr>\n",
       "      <th>51542</th>\n",
       "      <td>671</td>\n",
       "      <td>3386</td>\n",
       "      <td>83</td>\n",
       "    </tr>\n",
       "  </tbody>\n",
       "</table>\n",
       "<p>47273 rows × 3 columns</p>\n",
       "</div>"
      ],
      "text/plain": [
       "       userId  movieId  count\n",
       "9           2      150      0\n",
       "33          2      590      1\n",
       "34          2      592      2\n",
       "17          2      296      3\n",
       "10          2      153      4\n",
       "...       ...      ...    ...\n",
       "51501     671     1035     79\n",
       "51565     671     5995     80\n",
       "51541     671     3271     81\n",
       "51567     671     6365     82\n",
       "51542     671     3386     83\n",
       "\n",
       "[47273 rows x 3 columns]"
      ]
     },
     "execution_count": 87,
     "metadata": {},
     "output_type": "execute_result"
    }
   ],
   "source": [
    "#data selection\n",
    "df = pd.read_csv('data_raw/ratings_small.csv')\n",
    "df = df.loc[df.rating>=4.0]\n",
    "#get number of movies watched by each userId\n",
    "df_n = df['userId'].value_counts().to_frame()\n",
    "df_n.columns = ['ntotal']\n",
    "df_n['userId'] = df_n.index\n",
    "# print(df_n) eliminate the data <21\n",
    "df = df.merge(df_n, on = 'userId')\n",
    "df = df.loc[df.ntotal>=30]\n",
    "\n",
    "#sort by rating and timestap\n",
    "df = df.sort_values(['userId','rating'],ascending=[1,0])\n",
    "df = df.sort_values(['userId','timestamp'],ascending=[1,1])\n",
    "\n",
    "df = df[['userId', 'movieId']]\n",
    "df['count'] = df.groupby('userId').cumcount()\n",
    "df.to_csv('data/users_data.csv')\n",
    "df"
   ]
  },
  {
   "cell_type": "code",
   "execution_count": 89,
   "id": "8b466b7e",
   "metadata": {},
   "outputs": [],
   "source": [
    "#split and save inputs and truth ground \n",
    "df_X = df[df['count']<20]\n",
    "df_Y = df[df['count']>=20]\n",
    "df_X = df_X[['userId', 'movieId']]\n",
    "df_Y = df_Y[['userId', 'movieId']]\n",
    "\n",
    "# df_X.to_csv('data/users_history.csv')\n",
    "# df_Y.to_csv('data/ground_truth.csv')"
   ]
  },
  {
   "cell_type": "markdown",
   "id": "f7132ecb",
   "metadata": {},
   "source": [
    "# Step-1: recall "
   ]
  },
  {
   "cell_type": "markdown",
   "id": "2f07d1ff",
   "metadata": {},
   "source": [
    "### \"Movie2Movie\" Co-visitation Matrix - Rating Weighted"
   ]
  },
  {
   "cell_type": "code",
   "execution_count": 13,
   "id": "71a55a2f",
   "metadata": {},
   "outputs": [],
   "source": [
    "df = pd.read_csv('data_raw/ratings_small.csv').drop('timestamp', axis=1)\n",
    "df = pd.merge(df, df, on ='userId')\n",
    "df = df.loc[df.movieId_x != df.movieId_y]\n",
    "df['wgt'] = df.rating_y / 5\n",
    "df = df[['movieId_x','movieId_y','wgt']]\n",
    "df = df.groupby(['movieId_x','movieId_y']).wgt.sum()\n",
    "df = df.reset_index()\n",
    "df = df.sort_values(['movieId_x','wgt'], ascending=[True, False])\n",
    "df = df.reset_index(drop = True)\n",
    "df['n'] = df.groupby('movieId_x').movieId_y.cumcount()\n",
    "df = df.loc[df.n <20].drop('n', axis=1)\n",
    "df.to_csv('data/Movie2Movie.csv')"
   ]
  },
  {
   "cell_type": "markdown",
   "id": "c11a5ac5",
   "metadata": {},
   "source": [
    "### Most Popular Movies"
   ]
  },
  {
   "cell_type": "code",
   "execution_count": 63,
   "id": "569b21c3",
   "metadata": {},
   "outputs": [
    {
     "data": {
      "text/plain": [
       "array([  356,   318,   296,   593,  2571,   260,   480,   527,   110,\n",
       "           1,  1210,   589,  1196,  2959,  1198,    50,  2858,   150,\n",
       "         780,   858,  4993,   457,  1270,   592,    32,    47,   608,\n",
       "        5952,  7153,   590,  2028,   588,   380,  2762,   377,  3578,\n",
       "         364,   344,   648,  4306,  1721,  1580,   595,  1197,  4226,\n",
       "         165,  1240,  1193,  1291, 58559])"
      ]
     },
     "execution_count": 63,
     "metadata": {},
     "output_type": "execute_result"
    }
   ],
   "source": [
    "#from full dataset\n",
    "df = pd.read_csv('data_raw/ratings.csv')\n",
    "top_view_movies = df.movieId.value_counts().index.values[:50]\n",
    "top_view_movies"
   ]
  },
  {
   "cell_type": "code",
   "execution_count": 64,
   "id": "97bace30",
   "metadata": {},
   "outputs": [
    {
     "data": {
      "text/html": [
       "<div>\n",
       "<style scoped>\n",
       "    .dataframe tbody tr th:only-of-type {\n",
       "        vertical-align: middle;\n",
       "    }\n",
       "\n",
       "    .dataframe tbody tr th {\n",
       "        vertical-align: top;\n",
       "    }\n",
       "\n",
       "    .dataframe thead th {\n",
       "        text-align: right;\n",
       "    }\n",
       "</style>\n",
       "<table border=\"1\" class=\"dataframe\">\n",
       "  <thead>\n",
       "    <tr style=\"text-align: right;\">\n",
       "      <th></th>\n",
       "      <th>movieId</th>\n",
       "      <th>populairty</th>\n",
       "    </tr>\n",
       "  </thead>\n",
       "  <tbody>\n",
       "    <tr>\n",
       "      <th>0</th>\n",
       "      <td>356</td>\n",
       "      <td>10</td>\n",
       "    </tr>\n",
       "    <tr>\n",
       "      <th>1</th>\n",
       "      <td>318</td>\n",
       "      <td>10</td>\n",
       "    </tr>\n",
       "    <tr>\n",
       "      <th>2</th>\n",
       "      <td>296</td>\n",
       "      <td>9</td>\n",
       "    </tr>\n",
       "    <tr>\n",
       "      <th>3</th>\n",
       "      <td>593</td>\n",
       "      <td>9</td>\n",
       "    </tr>\n",
       "    <tr>\n",
       "      <th>4</th>\n",
       "      <td>2571</td>\n",
       "      <td>8</td>\n",
       "    </tr>\n",
       "  </tbody>\n",
       "</table>\n",
       "</div>"
      ],
      "text/plain": [
       "   movieId  populairty\n",
       "0      356          10\n",
       "1      318          10\n",
       "2      296           9\n",
       "3      593           9\n",
       "4     2571           8"
      ]
     },
     "execution_count": 64,
     "metadata": {},
     "output_type": "execute_result"
    }
   ],
   "source": [
    "df = df.movieId.value_counts().to_frame()\n",
    "df = df.reset_index()\n",
    "df.columns = ['movieId','ratingNum']\n",
    "df['populairty'] = df['ratingNum'].apply(lambda x: int(x/9000))\n",
    "df_pop = df[['movieId','populairty']]\n",
    "df_pop.to_csv('data/popularity.csv')\n",
    "df_pop.head()"
   ]
  },
  {
   "cell_type": "markdown",
   "id": "68f52955",
   "metadata": {},
   "source": [
    "### Same director and cast "
   ]
  },
  {
   "cell_type": "code",
   "execution_count": 53,
   "id": "f2ccad44",
   "metadata": {},
   "outputs": [
    {
     "data": {
      "text/html": [
       "<div>\n",
       "<style scoped>\n",
       "    .dataframe tbody tr th:only-of-type {\n",
       "        vertical-align: middle;\n",
       "    }\n",
       "\n",
       "    .dataframe tbody tr th {\n",
       "        vertical-align: top;\n",
       "    }\n",
       "\n",
       "    .dataframe thead th {\n",
       "        text-align: right;\n",
       "    }\n",
       "</style>\n",
       "<table border=\"1\" class=\"dataframe\">\n",
       "  <thead>\n",
       "    <tr style=\"text-align: right;\">\n",
       "      <th></th>\n",
       "      <th>tmdbid</th>\n",
       "      <th>director</th>\n",
       "      <th>cast1</th>\n",
       "      <th>cast2</th>\n",
       "      <th>cast3</th>\n",
       "      <th>cast4</th>\n",
       "      <th>cast5</th>\n",
       "      <th>cast6</th>\n",
       "      <th>cast7</th>\n",
       "      <th>cast8</th>\n",
       "      <th>cast9</th>\n",
       "      <th>cast10</th>\n",
       "    </tr>\n",
       "  </thead>\n",
       "  <tbody>\n",
       "    <tr>\n",
       "      <th>0</th>\n",
       "      <td>862</td>\n",
       "      <td>7879</td>\n",
       "      <td>31</td>\n",
       "      <td>12898</td>\n",
       "      <td>7167</td>\n",
       "      <td>12899</td>\n",
       "      <td>12900</td>\n",
       "      <td>7907</td>\n",
       "      <td>8873</td>\n",
       "      <td>1116442</td>\n",
       "      <td>12901</td>\n",
       "      <td>12133</td>\n",
       "    </tr>\n",
       "    <tr>\n",
       "      <th>1</th>\n",
       "      <td>8844</td>\n",
       "      <td>12891</td>\n",
       "      <td>2157</td>\n",
       "      <td>8537</td>\n",
       "      <td>205</td>\n",
       "      <td>145151</td>\n",
       "      <td>5149</td>\n",
       "      <td>10739</td>\n",
       "      <td>58563</td>\n",
       "      <td>1276</td>\n",
       "      <td>46530</td>\n",
       "      <td>56523</td>\n",
       "    </tr>\n",
       "    <tr>\n",
       "      <th>2</th>\n",
       "      <td>15602</td>\n",
       "      <td>7</td>\n",
       "      <td>6837</td>\n",
       "      <td>3151</td>\n",
       "      <td>13567</td>\n",
       "      <td>16757</td>\n",
       "      <td>589</td>\n",
       "      <td>16523</td>\n",
       "      <td>7166</td>\n",
       "      <td>-1</td>\n",
       "      <td>-1</td>\n",
       "      <td>-1</td>\n",
       "    </tr>\n",
       "    <tr>\n",
       "      <th>3</th>\n",
       "      <td>31357</td>\n",
       "      <td>12892</td>\n",
       "      <td>8851</td>\n",
       "      <td>9780</td>\n",
       "      <td>18284</td>\n",
       "      <td>51359</td>\n",
       "      <td>66804</td>\n",
       "      <td>352</td>\n",
       "      <td>87118</td>\n",
       "      <td>34</td>\n",
       "      <td>1276777</td>\n",
       "      <td>10814</td>\n",
       "    </tr>\n",
       "    <tr>\n",
       "      <th>4</th>\n",
       "      <td>11862</td>\n",
       "      <td>12893</td>\n",
       "      <td>67773</td>\n",
       "      <td>3092</td>\n",
       "      <td>519</td>\n",
       "      <td>70696</td>\n",
       "      <td>59222</td>\n",
       "      <td>18793</td>\n",
       "      <td>14592</td>\n",
       "      <td>20906</td>\n",
       "      <td>54348</td>\n",
       "      <td>209</td>\n",
       "    </tr>\n",
       "  </tbody>\n",
       "</table>\n",
       "</div>"
      ],
      "text/plain": [
       "   tmdbid  director  cast1  cast2  cast3   cast4  cast5  cast6  cast7  \\\n",
       "0     862      7879     31  12898   7167   12899  12900   7907   8873   \n",
       "1    8844     12891   2157   8537    205  145151   5149  10739  58563   \n",
       "2   15602         7   6837   3151  13567   16757    589  16523   7166   \n",
       "3   31357     12892   8851   9780  18284   51359  66804    352  87118   \n",
       "4   11862     12893  67773   3092    519   70696  59222  18793  14592   \n",
       "\n",
       "     cast8    cast9  cast10  \n",
       "0  1116442    12901   12133  \n",
       "1     1276    46530   56523  \n",
       "2       -1       -1      -1  \n",
       "3       34  1276777   10814  \n",
       "4    20906    54348     209  "
      ]
     },
     "execution_count": 53,
     "metadata": {},
     "output_type": "execute_result"
    }
   ],
   "source": [
    "# df3 = pd.read_csv('data_raw/credits.csv')\n",
    "# directors = []\n",
    "# casts = []\n",
    "# for i in range(len(df3)):\n",
    "#     for member in eval(df3.iloc[i].values[1]):\n",
    "#         directors.append(member['id'])\n",
    "    \n",
    "#     list = []\n",
    "#     for member in eval(df3.iloc[i].values[0]):\n",
    "#         list.append(member['id'])   \n",
    "#     list = list[:10] if len(list) > 10 else list+[-1]*(10-len(list))\n",
    "#     casts.append(list)\n",
    "\n",
    "# df3['director'] = pd.DataFrame(directors)\n",
    "# df_cast = pd.DataFrame(casts)\n",
    "# df3 = pd.concat([df3, df_cast], axis=1)\n",
    "# df3.rename(columns={'id': 'tmdbid', 0: 'cast1',1: 'cast2',2: 'cast3',3: 'cast4',4: 'cast5',5: 'cast6',6: 'cast7',7: 'cast8',8: 'cast9',9: 'cast10'}, inplace=True)\n",
    "# df3 = df3[['tmdbid','director', 'cast1', 'cast2', 'cast3', 'cast4', 'cast5', 'cast6', 'cast7', 'cast8', 'cast9', 'cast10']]\n",
    "# df3.to_csv('data/movie_director_casts.csv')\n",
    "# df3.head()"
   ]
  },
  {
   "cell_type": "markdown",
   "id": "1f09099d",
   "metadata": {},
   "source": [
    "# Step-2: Rerank"
   ]
  },
  {
   "cell_type": "markdown",
   "id": "6e00c90f",
   "metadata": {},
   "source": [
    "### word2vec"
   ]
  },
  {
   "cell_type": "code",
   "execution_count": 142,
   "id": "79adb033",
   "metadata": {},
   "outputs": [],
   "source": [
    "#read keywords file\n",
    "df1 = pd.read_csv('data_raw/keywords.csv')\n",
    "\n",
    "wv_train_data = []\n",
    "for i in range(len(df1)):\n",
    "    key_list = []\n",
    "    if len(df1.iloc[i].values):\n",
    "        for key in eval(df1.iloc[i].values[1]):\n",
    "            key_list.append(key['name'])\n",
    "    if key_list:\n",
    "        wv_train_data.append(key_list) \n",
    "\n",
    "model = Word2Vec(sentences=wv_train_data, vector_size=32, min_count=0, workers=5, window=5, epochs=30)\n",
    "model.save(\"word2vec.model\")"
   ]
  },
  {
   "cell_type": "code",
   "execution_count": 90,
   "id": "939c6350",
   "metadata": {},
   "outputs": [
    {
     "data": {
      "text/plain": [
       "array([[0.3885254]], dtype=float32)"
      ]
     },
     "execution_count": 90,
     "metadata": {},
     "output_type": "execute_result"
    }
   ],
   "source": [
    "cosine_similarity(model.wv['man'].reshape(1,-1), model.wv['vampire'].reshape(1,-1))"
   ]
  },
  {
   "cell_type": "markdown",
   "id": "46bb7801",
   "metadata": {},
   "source": [
    "### load data"
   ]
  },
  {
   "cell_type": "code",
   "execution_count": 47,
   "id": "851f43a0",
   "metadata": {},
   "outputs": [],
   "source": [
    "def df_covisitation_to_dict(df):\n",
    "    return df.groupby('movieId_x').movieId_y.apply(list).to_dict()\n",
    "\n",
    "def df_user_to_dict(df):\n",
    "    return df.groupby('userId').movieId.apply(list).to_dict()\n",
    "\n",
    "\n",
    "df_cov = pd.read_csv('data/Movie2Movie.csv')\n",
    "df_X = pd.read_csv('data/users_history.csv')\n",
    "df_y = pd.read_csv('data/ground_truth.csv')\n",
    "df_dc = pd.read_csv('data/movie_director_casts.csv')\n",
    "df_pop = pd.read_csv('data/popularity.csv')\n",
    "top_20_movies = df_covisitation_to_dict(df_cov)\n",
    "X_dic = df_user_to_dict(df_X)\n",
    "gt_dic = df_user_to_dict(df_y)\n",
    "model_wv = Word2Vec.load(\"word2vec.model\")"
   ]
  },
  {
   "cell_type": "markdown",
   "id": "f1da0781",
   "metadata": {},
   "source": [
    "### Bulid features"
   ]
  },
  {
   "cell_type": "markdown",
   "id": "8b263120",
   "metadata": {},
   "source": [
    "feature1: rank of movie2movie, replace None by mean  \n",
    "\n",
    "feature2: similarity of user and the movie  \n",
    "\n",
    "feature3: user vector covarience  \n",
    "\n",
    "feature4: movie popularity \n",
    "\n"
   ]
  },
  {
   "cell_type": "markdown",
   "id": "d9a46c43",
   "metadata": {},
   "source": []
  }
 ],
 "metadata": {
  "kernelspec": {
   "display_name": "Python 3 (ipykernel)",
   "language": "python",
   "name": "python3"
  },
  "language_info": {
   "codemirror_mode": {
    "name": "ipython",
    "version": 3
   },
   "file_extension": ".py",
   "mimetype": "text/x-python",
   "name": "python",
   "nbconvert_exporter": "python",
   "pygments_lexer": "ipython3",
   "version": "3.9.13"
  }
 },
 "nbformat": 4,
 "nbformat_minor": 5
}
