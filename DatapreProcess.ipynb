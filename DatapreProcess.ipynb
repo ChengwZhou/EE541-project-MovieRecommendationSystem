{
 "cells": [
  {
   "cell_type": "markdown",
   "id": "4eb527d4",
   "metadata": {},
   "source": [
    "### Data Preprocessing"
   ]
  },
  {
   "cell_type": "code",
   "execution_count": 61,
   "id": "5bf1837b",
   "metadata": {},
   "outputs": [],
   "source": [
    "import pandas as pd\n",
    "import numpy as np\n",
    "import gensim\n",
    "from gensim.models import Word2Vec\n",
    "import itertools\n",
    "from collections import Counter\n",
    "\n",
    "from MovieClass import MovieClass, MultiMovieClass\n",
    "from sklearn.model_selection import train_test_split\n",
    "from sklearn.metrics.pairwise import cosine_similarity"
   ]
  },
  {
   "cell_type": "code",
   "execution_count": 62,
   "id": "77ecfcc0",
   "metadata": {},
   "outputs": [
    {
     "data": {
      "text/html": [
       "<div>\n",
       "<style scoped>\n",
       "    .dataframe tbody tr th:only-of-type {\n",
       "        vertical-align: middle;\n",
       "    }\n",
       "\n",
       "    .dataframe tbody tr th {\n",
       "        vertical-align: top;\n",
       "    }\n",
       "\n",
       "    .dataframe thead th {\n",
       "        text-align: right;\n",
       "    }\n",
       "</style>\n",
       "<table border=\"1\" class=\"dataframe\">\n",
       "  <thead>\n",
       "    <tr style=\"text-align: right;\">\n",
       "      <th></th>\n",
       "      <th>userId</th>\n",
       "      <th>movieId</th>\n",
       "      <th>count</th>\n",
       "    </tr>\n",
       "  </thead>\n",
       "  <tbody>\n",
       "    <tr>\n",
       "      <th>9</th>\n",
       "      <td>2</td>\n",
       "      <td>150</td>\n",
       "      <td>0</td>\n",
       "    </tr>\n",
       "    <tr>\n",
       "      <th>33</th>\n",
       "      <td>2</td>\n",
       "      <td>590</td>\n",
       "      <td>1</td>\n",
       "    </tr>\n",
       "    <tr>\n",
       "      <th>34</th>\n",
       "      <td>2</td>\n",
       "      <td>592</td>\n",
       "      <td>2</td>\n",
       "    </tr>\n",
       "    <tr>\n",
       "      <th>17</th>\n",
       "      <td>2</td>\n",
       "      <td>296</td>\n",
       "      <td>3</td>\n",
       "    </tr>\n",
       "    <tr>\n",
       "      <th>10</th>\n",
       "      <td>2</td>\n",
       "      <td>153</td>\n",
       "      <td>4</td>\n",
       "    </tr>\n",
       "    <tr>\n",
       "      <th>...</th>\n",
       "      <td>...</td>\n",
       "      <td>...</td>\n",
       "      <td>...</td>\n",
       "    </tr>\n",
       "    <tr>\n",
       "      <th>51501</th>\n",
       "      <td>671</td>\n",
       "      <td>1035</td>\n",
       "      <td>79</td>\n",
       "    </tr>\n",
       "    <tr>\n",
       "      <th>51565</th>\n",
       "      <td>671</td>\n",
       "      <td>5995</td>\n",
       "      <td>80</td>\n",
       "    </tr>\n",
       "    <tr>\n",
       "      <th>51541</th>\n",
       "      <td>671</td>\n",
       "      <td>3271</td>\n",
       "      <td>81</td>\n",
       "    </tr>\n",
       "    <tr>\n",
       "      <th>51567</th>\n",
       "      <td>671</td>\n",
       "      <td>6365</td>\n",
       "      <td>82</td>\n",
       "    </tr>\n",
       "    <tr>\n",
       "      <th>51542</th>\n",
       "      <td>671</td>\n",
       "      <td>3386</td>\n",
       "      <td>83</td>\n",
       "    </tr>\n",
       "  </tbody>\n",
       "</table>\n",
       "<p>47273 rows × 3 columns</p>\n",
       "</div>"
      ],
      "text/plain": [
       "       userId  movieId  count\n",
       "9           2      150      0\n",
       "33          2      590      1\n",
       "34          2      592      2\n",
       "17          2      296      3\n",
       "10          2      153      4\n",
       "...       ...      ...    ...\n",
       "51501     671     1035     79\n",
       "51565     671     5995     80\n",
       "51541     671     3271     81\n",
       "51567     671     6365     82\n",
       "51542     671     3386     83\n",
       "\n",
       "[47273 rows x 3 columns]"
      ]
     },
     "execution_count": 62,
     "metadata": {},
     "output_type": "execute_result"
    }
   ],
   "source": [
    "#data selection\n",
    "df = pd.read_csv('data_raw/ratings_small.csv')\n",
    "df = df.loc[df.rating>=4.0]\n",
    "#get number of movies watched by each userId\n",
    "df_n = df['userId'].value_counts().to_frame()\n",
    "df_n.columns = ['ntotal']\n",
    "df_n['userId'] = df_n.index\n",
    "# print(df_n) eliminate the data <21\n",
    "df = df.merge(df_n, on = 'userId')\n",
    "df = df.loc[df.ntotal>=30]\n",
    "\n",
    "#sort by rating and timestap\n",
    "df = df.sort_values(['userId','rating'],ascending=[1,0])\n",
    "df = df.sort_values(['userId','timestamp'],ascending=[1,1])\n",
    "\n",
    "df = df[['userId', 'movieId']]\n",
    "df['count'] = df.groupby('userId').cumcount()\n",
    "# df.to_csv('data/users_data.csv')"
   ]
  },
  {
   "cell_type": "code",
   "execution_count": 63,
   "id": "8b466b7e",
   "metadata": {},
   "outputs": [],
   "source": [
    "#split and save inputs and truth ground \n",
    "df_X = df[df['count']<20]\n",
    "df_Y = df[df['count']>=20]\n",
    "df_X = df_X[['userId', 'movieId']]\n",
    "df_Y = df_Y[['userId', 'movieId']]\n",
    "\n",
    "df_X.to_csv('data/users_history.csv')\n",
    "df_Y.to_csv('data/ground_truth.csv')"
   ]
  },
  {
   "cell_type": "markdown",
   "id": "2f07d1ff",
   "metadata": {},
   "source": [
    "### \"Movie2Movie\" Co-visitation Matrix - Rating Weighted"
   ]
  },
  {
   "cell_type": "code",
   "execution_count": 13,
   "id": "71a55a2f",
   "metadata": {},
   "outputs": [],
   "source": [
    "df = pd.read_csv('data_raw/ratings_small.csv').drop('timestamp', axis=1)\n",
    "df = pd.merge(df, df, on ='userId')\n",
    "df = df.loc[df.movieId_x != df.movieId_y]\n",
    "df['wgt'] = df.rating_y / 5\n",
    "df = df[['movieId_x','movieId_y','wgt']]\n",
    "df = df.groupby(['movieId_x','movieId_y']).wgt.sum()\n",
    "df = df.reset_index()\n",
    "df = df.sort_values(['movieId_x','wgt'], ascending=[True, False])\n",
    "df = df.reset_index(drop = True)\n",
    "df['n'] = df.groupby('movieId_x').movieId_y.cumcount()\n",
    "df = df.loc[df.n <20].drop('n', axis=1)\n",
    "df.to_csv('data/Movie2Movie.csv')"
   ]
  },
  {
   "cell_type": "markdown",
   "id": "c11a5ac5",
   "metadata": {},
   "source": [
    "### Most Popular Movies"
   ]
  },
  {
   "cell_type": "code",
   "execution_count": 63,
   "id": "569b21c3",
   "metadata": {},
   "outputs": [
    {
     "data": {
      "text/plain": [
       "array([  356,   318,   296,   593,  2571,   260,   480,   527,   110,\n",
       "           1,  1210,   589,  1196,  2959,  1198,    50,  2858,   150,\n",
       "         780,   858,  4993,   457,  1270,   592,    32,    47,   608,\n",
       "        5952,  7153,   590,  2028,   588,   380,  2762,   377,  3578,\n",
       "         364,   344,   648,  4306,  1721,  1580,   595,  1197,  4226,\n",
       "         165,  1240,  1193,  1291, 58559])"
      ]
     },
     "execution_count": 63,
     "metadata": {},
     "output_type": "execute_result"
    }
   ],
   "source": [
    "#from full dataset\n",
    "df = pd.read_csv('data_raw/ratings.csv')\n",
    "top_view_movies = df.movieId.value_counts().index.values[:50]\n",
    "top_view_movies"
   ]
  },
  {
   "cell_type": "code",
   "execution_count": 64,
   "id": "97bace30",
   "metadata": {},
   "outputs": [
    {
     "data": {
      "text/html": [
       "<div>\n",
       "<style scoped>\n",
       "    .dataframe tbody tr th:only-of-type {\n",
       "        vertical-align: middle;\n",
       "    }\n",
       "\n",
       "    .dataframe tbody tr th {\n",
       "        vertical-align: top;\n",
       "    }\n",
       "\n",
       "    .dataframe thead th {\n",
       "        text-align: right;\n",
       "    }\n",
       "</style>\n",
       "<table border=\"1\" class=\"dataframe\">\n",
       "  <thead>\n",
       "    <tr style=\"text-align: right;\">\n",
       "      <th></th>\n",
       "      <th>movieId</th>\n",
       "      <th>populairty</th>\n",
       "    </tr>\n",
       "  </thead>\n",
       "  <tbody>\n",
       "    <tr>\n",
       "      <th>0</th>\n",
       "      <td>356</td>\n",
       "      <td>10</td>\n",
       "    </tr>\n",
       "    <tr>\n",
       "      <th>1</th>\n",
       "      <td>318</td>\n",
       "      <td>10</td>\n",
       "    </tr>\n",
       "    <tr>\n",
       "      <th>2</th>\n",
       "      <td>296</td>\n",
       "      <td>9</td>\n",
       "    </tr>\n",
       "    <tr>\n",
       "      <th>3</th>\n",
       "      <td>593</td>\n",
       "      <td>9</td>\n",
       "    </tr>\n",
       "    <tr>\n",
       "      <th>4</th>\n",
       "      <td>2571</td>\n",
       "      <td>8</td>\n",
       "    </tr>\n",
       "  </tbody>\n",
       "</table>\n",
       "</div>"
      ],
      "text/plain": [
       "   movieId  populairty\n",
       "0      356          10\n",
       "1      318          10\n",
       "2      296           9\n",
       "3      593           9\n",
       "4     2571           8"
      ]
     },
     "execution_count": 64,
     "metadata": {},
     "output_type": "execute_result"
    }
   ],
   "source": [
    "df = df.movieId.value_counts().to_frame()\n",
    "df = df.reset_index()\n",
    "df.columns = ['movieId','ratingNum']\n",
    "df['populairty'] = df['ratingNum'].apply(lambda x: int(x/9000))\n",
    "df_pop = df[['movieId','populairty']]\n",
    "df_pop.to_csv('data/popularity.csv')\n",
    "df_pop.head()"
   ]
  },
  {
   "cell_type": "markdown",
   "id": "6e00c90f",
   "metadata": {},
   "source": [
    "### word2vec"
   ]
  },
  {
   "cell_type": "code",
   "execution_count": 142,
   "id": "79adb033",
   "metadata": {},
   "outputs": [],
   "source": [
    "#read keywords file\n",
    "df1 = pd.read_csv('data_raw/keywords.csv')\n",
    "\n",
    "wv_train_data = []\n",
    "for i in range(len(df1)):\n",
    "    key_list = []\n",
    "    if len(df1.iloc[i].values):\n",
    "        for key in eval(df1.iloc[i].values[1]):\n",
    "            key_list.append(key['name'])\n",
    "    if key_list:\n",
    "        wv_train_data.append(key_list) \n",
    "\n",
    "model = Word2Vec(sentences=wv_train_data, vector_size=32, min_count=0, workers=5, window=5, epochs=30)\n",
    "model.save(\"word2vec.model\")"
   ]
  },
  {
   "cell_type": "code",
   "execution_count": 90,
   "id": "939c6350",
   "metadata": {},
   "outputs": [
    {
     "data": {
      "text/plain": [
       "array([[0.3885254]], dtype=float32)"
      ]
     },
     "execution_count": 90,
     "metadata": {},
     "output_type": "execute_result"
    }
   ],
   "source": [
    "cosine_similarity(model.wv['man'].reshape(1,-1), model.wv['vampire'].reshape(1,-1))"
   ]
  },
  {
   "cell_type": "markdown",
   "id": "46bb7801",
   "metadata": {},
   "source": [
    "### load data"
   ]
  },
  {
   "cell_type": "code",
   "execution_count": 49,
   "id": "851f43a0",
   "metadata": {},
   "outputs": [],
   "source": [
    "def df_covisitation_to_dict(df):\n",
    "    return df.groupby('movieId_x').movieId_y.apply(list).to_dict()\n",
    "\n",
    "def df_user_to_dict(df):\n",
    "    return df.groupby('userId').movieId.apply(list).to_dict()\n",
    "\n",
    "\n",
    "df_cov = pd.read_csv('data/Movie2Movie.csv')\n",
    "df_X = pd.read_csv('data/users_history.csv')\n",
    "df_y = pd.read_csv('data/ground_truth.csv')\n",
    "df_dc = pd.read_csv('data/movie_director_casts.csv')\n",
    "df_pop = pd.read_csv('data/popularity.csv')\n",
    "top_20_movies = df_covisitation_to_dict(df_cov)\n",
    "X_dic = df_user_to_dict(df_X)\n",
    "gt_dic = df_user_to_dict(df_y)\n",
    "model_wv = Word2Vec.load(\"word2vec_movie.model\")"
   ]
  },
  {
   "cell_type": "code",
   "execution_count": 50,
   "id": "f05aa2ef",
   "metadata": {},
   "outputs": [],
   "source": [
    "def get_label(df_recall, df_y):\n",
    "    groudtruth = df_y.groupby('userId').movieId.apply(list).to_dict()\n",
    "    label = []\n",
    "    for i in range(len(df_recall)):\n",
    "        movieid = int(df_recall.iloc[i].movieId)\n",
    "        userid = int(df_recall.iloc[i].userId)\n",
    "        if movieid in groudtruth[userid]:\n",
    "            label.append([0,1])\n",
    "        else:\n",
    "            label.append([1,0])\n",
    "    return np.array(label)\n",
    "\n",
    "\n",
    "df_recall = pd.read_csv('data/dataset_feature.csv')\n",
    "df_x = df_recall.iloc[:, 2:]\n",
    "label = get_label(df_recall, df_y)\n",
    "\n",
    "x_train = df_x[:27447].values[:,1:]\n",
    "x_test = df_x[27447:].values[:,1:]\n",
    "y_train = label[:27447]\n",
    "y_test = label[27447:]"
   ]
  },
  {
   "cell_type": "markdown",
   "id": "97df2ad2",
   "metadata": {},
   "source": [
    "SVC"
   ]
  },
  {
   "cell_type": "code",
   "execution_count": 65,
   "id": "04245632",
   "metadata": {},
   "outputs": [],
   "source": [
    "from sklearn.svm import SVC\n",
    "\n",
    "model = SVC(C=0.1, gamma = 0.001)\n",
    "model.fit(x_train, np.argmax(np.array(y_train), axis=1))\n",
    "preditction = model.predict(x_train)\n",
    "# preditction[0:100]"
   ]
  }
 ],
 "metadata": {
  "kernelspec": {
   "display_name": "Python 3 (ipykernel)",
   "language": "python",
   "name": "python3"
  },
  "language_info": {
   "codemirror_mode": {
    "name": "ipython",
    "version": 3
   },
   "file_extension": ".py",
   "mimetype": "text/x-python",
   "name": "python",
   "nbconvert_exporter": "python",
   "pygments_lexer": "ipython3",
   "version": "3.9.13"
  }
 },
 "nbformat": 4,
 "nbformat_minor": 5
}
