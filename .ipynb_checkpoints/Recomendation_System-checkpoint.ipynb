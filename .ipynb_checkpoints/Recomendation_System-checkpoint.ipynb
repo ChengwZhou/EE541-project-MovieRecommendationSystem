{
 "cells": [
  {
   "cell_type": "markdown",
   "id": "4eb527d4",
   "metadata": {},
   "source": [
    "### Data Preprocessing"
   ]
  },
  {
   "cell_type": "code",
   "execution_count": 143,
   "id": "5bf1837b",
   "metadata": {},
   "outputs": [],
   "source": [
    "import pandas as pd\n",
    "import numpy as np\n",
    "import itertools\n",
    "from collections import Counter\n",
    "\n",
    "from MovieClass import MovieClass, MultiMovieClass\n",
    "from sklearn.model_selection import train_test_split"
   ]
  },
  {
   "cell_type": "code",
   "execution_count": 144,
   "id": "77ecfcc0",
   "metadata": {},
   "outputs": [
    {
     "name": "stdout",
     "output_type": "stream",
     "text": [
      "        userId  movieId  rating   timestamp\n",
      "0            1       31     2.5  1260759144\n",
      "1            1     1029     3.0  1260759179\n",
      "2            1     1061     3.0  1260759182\n",
      "3            1     1129     2.0  1260759185\n",
      "4            1     1172     4.0  1260759205\n",
      "...        ...      ...     ...         ...\n",
      "99999      671     6268     2.5  1065579370\n",
      "100000     671     6269     4.0  1065149201\n",
      "100001     671     6365     4.0  1070940363\n",
      "100002     671     6385     2.5  1070979663\n",
      "100003     671     6565     3.5  1074784724\n",
      "\n",
      "[100004 rows x 4 columns]\n"
     ]
    }
   ],
   "source": [
    "#data selection\n",
    "df = pd.read_csv('data_raw/ratings_small.csv')\n",
    "print(df)\n",
    "df = df.loc[df.rating>=4.0]\n",
    "#get number of movies watched by each userId\n",
    "df_n = df['userId'].value_counts().to_frame()\n",
    "df_n.columns = ['ntotal']\n",
    "df_n['userId'] = df_n.index\n",
    "# print(df_n) eliminate the data <21\n",
    "df = df.merge(df_n, on = 'userId')\n",
    "df = df.loc[df.ntotal>=30]\n",
    "\n",
    "#sort by rating and timestap\n",
    "df = df.sort_values(['userId','rating'],ascending=[1,0])\n",
    "df = df.sort_values(['userId','timestamp'],ascending=[1,1])\n",
    "\n",
    "df = df[['userId', 'movieId']]\n",
    "df['count'] = df.groupby('userId').cumcount()\n",
    "# df"
   ]
  },
  {
   "cell_type": "code",
   "execution_count": 131,
   "id": "8b466b7e",
   "metadata": {},
   "outputs": [],
   "source": [
    "#split and save inputs and truth ground \n",
    "df_X = df[df['count']<20]\n",
    "df_Y = df[df['count']>=20]\n",
    "df_X = df_X[['userId', 'movieId']]\n",
    "df_Y = df_Y[['userId', 'movieId']]\n",
    "\n",
    "df_X.to_csv('data/users_history.csv')\n",
    "df_Y.to_csv('data/ground_truth.csv')"
   ]
  },
  {
   "cell_type": "markdown",
   "id": "a3e90b16",
   "metadata": {},
   "source": [
    "# Step-1: recall "
   ]
  },
  {
   "cell_type": "markdown",
   "id": "2f07d1ff",
   "metadata": {},
   "source": [
    "### \"Movie2Movie\" Co-visitation Matrix - Rating Weighted"
   ]
  },
  {
   "cell_type": "code",
   "execution_count": 13,
   "id": "71a55a2f",
   "metadata": {},
   "outputs": [],
   "source": [
    "df = pd.read_csv('data_raw/ratings_small.csv').drop('timestamp', axis=1)\n",
    "df = pd.merge(df, df, on ='userId')\n",
    "df = df.loc[df.movieId_x != df.movieId_y]\n",
    "df['wgt'] = df.rating_y / 5\n",
    "df = df[['movieId_x','movieId_y','wgt']]\n",
    "df = df.groupby(['movieId_x','movieId_y']).wgt.sum()\n",
    "df = df.reset_index()\n",
    "df = df.sort_values(['movieId_x','wgt'], ascending=[True, False])\n",
    "df = df.reset_index(drop = True)\n",
    "df['n'] = df.groupby('movieId_x').movieId_y.cumcount()\n",
    "df = df.loc[df.n <20].drop('n', axis=1)\n",
    "df.to_csv('data/Movie2Movie.csv')"
   ]
  },
  {
   "cell_type": "markdown",
   "id": "e5913ad2",
   "metadata": {},
   "source": [
    "### Most Popular Movies"
   ]
  },
  {
   "cell_type": "code",
   "execution_count": 117,
   "id": "3daa4447",
   "metadata": {},
   "outputs": [],
   "source": [
    "#from full dataset\n",
    "df = pd.read_csv('data_raw/ratings.csv')\n",
    "top_view_movies = df.movieId.value_counts().index.values[:20]"
   ]
  },
  {
   "cell_type": "code",
   "execution_count": 118,
   "id": "cfbc9ad2",
   "metadata": {},
   "outputs": [
    {
     "data": {
      "text/plain": [
       "array([ 356,  318,  296,  593, 2571,  260,  480,  527,  110,    1, 1210,\n",
       "        589, 1196, 2959, 1198,   50, 2858,  150,  780,  858])"
      ]
     },
     "execution_count": 118,
     "metadata": {},
     "output_type": "execute_result"
    }
   ],
   "source": [
    "top_view_movies"
   ]
  },
  {
   "cell_type": "markdown",
   "id": "f6667543",
   "metadata": {},
   "source": [
    "### Same Director"
   ]
  },
  {
   "cell_type": "code",
   "execution_count": null,
   "id": "dfcff63b",
   "metadata": {},
   "outputs": [],
   "source": []
  },
  {
   "cell_type": "markdown",
   "id": "c5d12f5e",
   "metadata": {},
   "source": [
    "# Step-2: Rerank"
   ]
  },
  {
   "cell_type": "code",
   "execution_count": 132,
   "id": "851f43a0",
   "metadata": {},
   "outputs": [],
   "source": [
    "def df_covisitation_to_dict(df):\n",
    "    return df.groupby('movieId_x').movieId_y.apply(list).to_dict()\n",
    "\n",
    "def df_user_to_dict(df):\n",
    "    return df.groupby('userId').movieId.apply(list).to_dict()\n",
    "\n",
    "#read\n",
    "df_cov = pd.read_csv('data/Movie2Movie.csv')\n",
    "df_X = pd.read_csv('data/users_history.csv')\n",
    "df_y = pd.read_csv('data/ground_truth.csv')\n",
    "\n",
    "top_20_movies = df_covisitation_to_dict(df_cov)\n",
    "X_dic = df_user_to_dict(df_X)\n",
    "gt_dic = df_user_to_dict(df_y)"
   ]
  },
  {
   "cell_type": "code",
   "execution_count": 133,
   "id": "ba69e319",
   "metadata": {},
   "outputs": [
    {
     "name": "stdout",
     "output_type": "stream",
     "text": [
      "   Unnamed: 0  userId  movieId\n",
      "0           9       2      150\n",
      "1          33       2      590\n",
      "2          34       2      592\n",
      "3          17       2      296\n",
      "4          10       2      153\n",
      "   Unnamed: 0  userId  movieId\n",
      "0          26       2      509\n",
      "1          24       2      500\n",
      "2          28       2      527\n",
      "3          30       2      551\n",
      "4          16       2      273\n",
      "   Unnamed: 0  movieId_x  movieId_y    wgt\n",
      "0           0          1        356  139.6\n",
      "1           1          1        260  137.9\n",
      "2           2          1        318  132.3\n",
      "3           3          1        296  131.7\n",
      "4           4          1        593  119.1\n"
     ]
    }
   ],
   "source": [
    "print(df_X.head())\n",
    "print(df_y.head())\n",
    "print(df_cov.head())"
   ]
  },
  {
   "cell_type": "code",
   "execution_count": 140,
   "id": "a1636afc",
   "metadata": {},
   "outputs": [],
   "source": [
    "def suggest_movie(df):\n",
    "    movies = df.movieId.tolist()\n",
    "    unique_movie = list(dict.fromkeys(movies))\n",
    "    #gererate movie recommendation\n",
    "    movies_2 = list(itertools.chain(*[top_20_movies[id] for id in unique_movie if id in top_20_movies]))\n",
    "    #rerankg\n",
    "    top_movies_2 = [id for id, cnt in Counter(movies_2).most_common(100) if id not in unique_movie]\n",
    "    return top_movies_2 + list(top_view_movies) \n",
    "\n",
    "movie_rc = suggest_movie(df_X.loc[df_X.userId == 2])"
   ]
  },
  {
   "cell_type": "code",
   "execution_count": null,
   "id": "bbb47264",
   "metadata": {},
   "outputs": [],
   "source": []
  },
  {
   "cell_type": "code",
   "execution_count": 141,
   "id": "2dd81753",
   "metadata": {},
   "outputs": [
    {
     "data": {
      "text/html": [
       "<div>\n",
       "<style scoped>\n",
       "    .dataframe tbody tr th:only-of-type {\n",
       "        vertical-align: middle;\n",
       "    }\n",
       "\n",
       "    .dataframe tbody tr th {\n",
       "        vertical-align: top;\n",
       "    }\n",
       "\n",
       "    .dataframe thead th {\n",
       "        text-align: right;\n",
       "    }\n",
       "</style>\n",
       "<table border=\"1\" class=\"dataframe\">\n",
       "  <thead>\n",
       "    <tr style=\"text-align: right;\">\n",
       "      <th></th>\n",
       "      <th>userId</th>\n",
       "      <th>movieId</th>\n",
       "    </tr>\n",
       "  </thead>\n",
       "  <tbody>\n",
       "    <tr>\n",
       "      <th>26</th>\n",
       "      <td>2</td>\n",
       "      <td>509</td>\n",
       "    </tr>\n",
       "    <tr>\n",
       "      <th>24</th>\n",
       "      <td>2</td>\n",
       "      <td>500</td>\n",
       "    </tr>\n",
       "    <tr>\n",
       "      <th>28</th>\n",
       "      <td>2</td>\n",
       "      <td>527</td>\n",
       "    </tr>\n",
       "    <tr>\n",
       "      <th>30</th>\n",
       "      <td>2</td>\n",
       "      <td>551</td>\n",
       "    </tr>\n",
       "    <tr>\n",
       "      <th>16</th>\n",
       "      <td>2</td>\n",
       "      <td>273</td>\n",
       "    </tr>\n",
       "    <tr>\n",
       "      <th>22</th>\n",
       "      <td>2</td>\n",
       "      <td>468</td>\n",
       "    </tr>\n",
       "    <tr>\n",
       "      <th>31</th>\n",
       "      <td>2</td>\n",
       "      <td>585</td>\n",
       "    </tr>\n",
       "    <tr>\n",
       "      <th>27</th>\n",
       "      <td>2</td>\n",
       "      <td>515</td>\n",
       "    </tr>\n",
       "    <tr>\n",
       "      <th>11</th>\n",
       "      <td>2</td>\n",
       "      <td>222</td>\n",
       "    </tr>\n",
       "    <tr>\n",
       "      <th>25</th>\n",
       "      <td>2</td>\n",
       "      <td>508</td>\n",
       "    </tr>\n",
       "    <tr>\n",
       "      <th>36</th>\n",
       "      <td>2</td>\n",
       "      <td>720</td>\n",
       "    </tr>\n",
       "    <tr>\n",
       "      <th>18</th>\n",
       "      <td>2</td>\n",
       "      <td>314</td>\n",
       "    </tr>\n",
       "    <tr>\n",
       "      <th>35</th>\n",
       "      <td>2</td>\n",
       "      <td>661</td>\n",
       "    </tr>\n",
       "    <tr>\n",
       "      <th>29</th>\n",
       "      <td>2</td>\n",
       "      <td>537</td>\n",
       "    </tr>\n",
       "  </tbody>\n",
       "</table>\n",
       "</div>"
      ],
      "text/plain": [
       "    userId  movieId\n",
       "26       2      509\n",
       "24       2      500\n",
       "28       2      527\n",
       "30       2      551\n",
       "16       2      273\n",
       "22       2      468\n",
       "31       2      585\n",
       "27       2      515\n",
       "11       2      222\n",
       "25       2      508\n",
       "36       2      720\n",
       "18       2      314\n",
       "35       2      661\n",
       "29       2      537"
      ]
     },
     "execution_count": 141,
     "metadata": {},
     "output_type": "execute_result"
    }
   ],
   "source": [
    "df_Y.loc[df_Y.userId == 2]"
   ]
  },
  {
   "cell_type": "code",
   "execution_count": 142,
   "id": "5fa4439c",
   "metadata": {},
   "outputs": [
    {
     "name": "stdout",
     "output_type": "stream",
     "text": [
      "527\n",
      "500\n",
      "509\n",
      "527\n",
      "4\n"
     ]
    }
   ],
   "source": [
    "count = 0\n",
    "for id in movie_rc:\n",
    "    if id in gt_dic[2]:\n",
    "        print(id)\n",
    "        count +=1\n",
    "print(count)"
   ]
  },
  {
   "cell_type": "code",
   "execution_count": 137,
   "id": "865a68e5",
   "metadata": {},
   "outputs": [
    {
     "data": {
      "text/plain": [
       "[356,\n",
       " 318,\n",
       " 593,\n",
       " 457,\n",
       " 527,\n",
       " 260,\n",
       " 588,\n",
       " 380,\n",
       " 377,\n",
       " 364,\n",
       " 595,\n",
       " 608,\n",
       " 1,\n",
       " 1196,\n",
       " 2571,\n",
       " 1270,\n",
       " 500,\n",
       " 357,\n",
       " 2858,\n",
       " 165,\n",
       " 1210,\n",
       " 1198,\n",
       " 32,\n",
       " 597,\n",
       " 34,\n",
       " 2959,\n",
       " 858,\n",
       " 539,\n",
       " 2028,\n",
       " 587,\n",
       " 780,\n",
       " 509,\n",
       " 1240,\n",
       " 356,\n",
       " 318,\n",
       " 296,\n",
       " 593,\n",
       " 2571,\n",
       " 260,\n",
       " 480,\n",
       " 527,\n",
       " 110,\n",
       " 1,\n",
       " 1210,\n",
       " 589,\n",
       " 1196,\n",
       " 2959,\n",
       " 1198,\n",
       " 50,\n",
       " 2858,\n",
       " 150,\n",
       " 780,\n",
       " 858]"
      ]
     },
     "execution_count": 137,
     "metadata": {},
     "output_type": "execute_result"
    }
   ],
   "source": [
    "movie_rc"
   ]
  },
  {
   "cell_type": "code",
   "execution_count": 76,
   "id": "25da4224",
   "metadata": {},
   "outputs": [
    {
     "data": {
      "text/plain": [
       "[266,\n",
       " 50,\n",
       " 39,\n",
       " 454,\n",
       " 480,\n",
       " 17,\n",
       " 261,\n",
       " 265,\n",
       " 589,\n",
       " 350,\n",
       " 509,\n",
       " 500,\n",
       " 527,\n",
       " 551,\n",
       " 273,\n",
       " 468,\n",
       " 585,\n",
       " 515,\n",
       " 222,\n",
       " 508,\n",
       " 720,\n",
       " 314,\n",
       " 661,\n",
       " 537]"
      ]
     },
     "execution_count": 76,
     "metadata": {},
     "output_type": "execute_result"
    }
   ],
   "source": [
    "gt_dic[2]"
   ]
  },
  {
   "cell_type": "code",
   "execution_count": null,
   "id": "5356b4f4",
   "metadata": {},
   "outputs": [],
   "source": []
  }
 ],
 "metadata": {
  "kernelspec": {
   "display_name": "Python 3 (ipykernel)",
   "language": "python",
   "name": "python3"
  },
  "language_info": {
   "codemirror_mode": {
    "name": "ipython",
    "version": 3
   },
   "file_extension": ".py",
   "mimetype": "text/x-python",
   "name": "python",
   "nbconvert_exporter": "python",
   "pygments_lexer": "ipython3",
   "version": "3.9.13"
  }
 },
 "nbformat": 4,
 "nbformat_minor": 5
}
