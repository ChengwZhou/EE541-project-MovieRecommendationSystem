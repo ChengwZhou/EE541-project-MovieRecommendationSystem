{
 "cells": [
  {
   "cell_type": "markdown",
   "id": "4eb527d4",
   "metadata": {},
   "source": [
    "### Data Preprocessing"
   ]
  },
  {
   "cell_type": "code",
   "execution_count": 2,
   "id": "5bf1837b",
   "metadata": {},
   "outputs": [],
   "source": [
    "import pandas as pd\n",
    "import numpy as np\n",
    "\n",
    "from sklearn.model_selection import train_test_split"
   ]
  },
  {
   "cell_type": "code",
   "execution_count": 36,
   "id": "77ecfcc0",
   "metadata": {},
   "outputs": [],
   "source": [
    "#data selection\n",
    "df = pd.read_csv('data_raw/ratings_small.csv')\n",
    "df = df.loc[df.rating>=4.0]\n",
    "#get number of movies watched by each userId\n",
    "df_n = df['userId'].value_counts().to_frame()\n",
    "df_n.columns = ['ntotal']\n",
    "df_n['userId'] = df_n.index\n",
    "# print(df_n) eliminate the data <21\n",
    "df = df.merge(df_n, on = 'userId')\n",
    "df = df.loc[df.ntotal>=21]\n",
    "\n",
    "#sort by rating and timestap\n",
    "df = df.sort_values(['userId','rating'],ascending=[1,0])\n",
    "df = df.sort_values(['userId','timestamp'],ascending=[1,1])\n",
    "\n",
    "df = df[['userId', 'movieId']]\n",
    "df['count'] = df.groupby('userId').cumcount()\n",
    "# df"
   ]
  },
  {
   "cell_type": "code",
   "execution_count": 37,
   "id": "8b466b7e",
   "metadata": {},
   "outputs": [],
   "source": [
    "#split and save inputs and truth ground \n",
    "df_X = df[df['count']<10]\n",
    "df_Y = df[df['count']>=10]\n",
    "df_X = df_X[['userId', 'movieId']]\n",
    "df_Y = df_Y[['userId', 'movieId']]\n",
    "\n",
    "df_X.to_csv('data/users_history.csv')\n",
    "df_Y.to_csv('data/ground_truth.csv')"
   ]
  },
  {
   "cell_type": "markdown",
   "id": "2f07d1ff",
   "metadata": {},
   "source": [
    "### \"Movie2Movie\" Co-visitation Matrix - Rating Weighted"
   ]
  },
  {
   "cell_type": "code",
   "execution_count": 13,
   "id": "71a55a2f",
   "metadata": {},
   "outputs": [],
   "source": [
    "df = pd.read_csv('data_raw/ratings_small.csv').drop('timestamp', axis=1)\n",
    "df = pd.merge(df, df, on ='userId')\n",
    "df = df.loc[df.movieId_x != df.movieId_y]\n",
    "df['wgt'] = df.rating_y / 5\n",
    "df = df[['movieId_x','movieId_y','wgt']]\n",
    "df = df.groupby(['movieId_x','movieId_y']).wgt.sum()\n",
    "df = df.reset_index()\n",
    "df = df.sort_values(['movieId_x','wgt'], ascending=[True, False])\n",
    "df = df.reset_index(drop = True)\n",
    "df['n'] = df.groupby('movieId_x').movieId_y.cumcount()\n",
    "df = df.loc[df.n <20].drop('n', axis=1)\n",
    "df.to_csv('data/Movie2Movie.csv')"
   ]
  },
  {
   "cell_type": "markdown",
   "id": "c5d12f5e",
   "metadata": {},
   "source": [
    "### Rerank"
   ]
  },
  {
   "cell_type": "code",
   "execution_count": 38,
   "id": "851f43a0",
   "metadata": {},
   "outputs": [],
   "source": [
    "def df_covisitation_to_dict(df):\n",
    "    return df.groupby('movieId_x').movieId_y.apply(list).to_dict()\n",
    "\n",
    "def df_user_to_dict(df):\n",
    "    return df.groupby('userId').movieId.apply(list).to_dict()\n",
    "\n",
    "#read\n",
    "df_cov = pd.read_csv('data/Movie2Movie.csv')\n",
    "df_X = pd.read_csv('data/users_history.csv')\n",
    "df_y = pd.read_csv('data/ground_truth.csv')\n",
    "\n",
    "cov_dic = df_covisitation_to_dict(df_cov)\n",
    "X_dic = df_user_to_dict(df_X)\n",
    "gt_dic = df_user_to_dict(df_y)"
   ]
  },
  {
   "cell_type": "code",
   "execution_count": 39,
   "id": "ba69e319",
   "metadata": {},
   "outputs": [
    {
     "name": "stdout",
     "output_type": "stream",
     "text": [
      "   Unnamed: 0  userId  movieId\n",
      "0           9       2      150\n",
      "1          33       2      590\n",
      "2          34       2      592\n",
      "3          17       2      296\n",
      "4          10       2      153\n",
      "   Unnamed: 0  userId  movieId\n",
      "0          15       2      266\n",
      "1           7       2       50\n",
      "2           5       2       39\n",
      "3          21       2      454\n",
      "4          23       2      480\n",
      "   Unnamed: 0  movieId_x  movieId_y    wgt\n",
      "0           0          1        356  139.6\n",
      "1           1          1        260  137.9\n",
      "2           2          1        318  132.3\n",
      "3           3          1        296  131.7\n",
      "4           4          1        593  119.1\n"
     ]
    }
   ],
   "source": [
    "print(df_X.head())\n",
    "print(df_y.head())\n",
    "print(df_cov.head())"
   ]
  },
  {
   "cell_type": "code",
   "execution_count": null,
   "id": "a1636afc",
   "metadata": {},
   "outputs": [],
   "source": []
  }
 ],
 "metadata": {
  "kernelspec": {
   "display_name": "Python 3 (ipykernel)",
   "language": "python",
   "name": "python3"
  },
  "language_info": {
   "codemirror_mode": {
    "name": "ipython",
    "version": 3
   },
   "file_extension": ".py",
   "mimetype": "text/x-python",
   "name": "python",
   "nbconvert_exporter": "python",
   "pygments_lexer": "ipython3",
   "version": "3.9.13"
  }
 },
 "nbformat": 4,
 "nbformat_minor": 5
}
